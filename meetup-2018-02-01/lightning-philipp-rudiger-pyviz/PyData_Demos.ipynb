{
 "cells": [
  {
   "cell_type": "code",
   "execution_count": null,
   "metadata": {},
   "outputs": [],
   "source": [
    "import param\n",
    "import numpy as np\n",
    "import pandas as pd\n",
    "import holoviews as hv\n",
    "import geoviews as gv\n",
    "import dask.dataframe as dd\n",
    "import parambokeh\n",
    "import cartopy.crs as ccrs\n",
    "import xarray as xr\n",
    "import cv2 as cv\n",
    "import datashader as ds\n",
    "\n",
    "from matplotlib.path import Path \n",
    "from colorcet import cm_n\n",
    "from holoviews.streams import RangeXY, BoxEdit, PointDraw, PolyDraw, PolyEdit\n",
    "from holoviews.operation.datashader import datashade, regrid\n",
    "\n",
    "hv.extension('bokeh')"
   ]
  },
  {
   "cell_type": "markdown",
   "metadata": {},
   "source": [
    "These demos require:\n",
    "    \n",
    "    * bokeh 0.12.14dev6\n",
    "    * holoviews 1.10 (unreleased)\n",
    "    * datashader 0.6.5\n",
    "    * xarray 0.10.0\n",
    "    * geoviews 1.5 (unreleased)\n",
    "    * parambokeh\n",
    "    * colorcet"
   ]
  },
  {
   "cell_type": "markdown",
   "metadata": {},
   "source": [
    "## An example dashboard"
   ]
  },
  {
   "cell_type": "code",
   "execution_count": null,
   "metadata": {},
   "outputs": [],
   "source": [
    "usecols = ['dropoff_x', 'dropoff_y', 'pickup_x', 'pickup_y', 'dropoff_hour']\n",
    "df = dd.read_parquet('/Users/philippjfr/anacondaviz/data/nyc_taxi_wide.parq')\n",
    "df = df[usecols].persist()\n"
   ]
  },
  {
   "cell_type": "code",
   "execution_count": null,
   "metadata": {},
   "outputs": [],
   "source": [
    "usecols = ['dropoff_x', 'dropoff_y', 'pickup_x', 'pickup_y', 'dropoff_hour']\n",
    "df = dd.read_parquet('/Users/philippjfr/anacondaviz/data/nyc_taxi_wide.parq')\n",
    "df = df[usecols].persist()\n",
    "\n",
    "url='https://server.arcgisonline.com/ArcGIS/rest/services/World_Imagery/MapServer/tile/{Z}/{Y}/{X}.jpg'\n",
    "tiles = gv.WMTS(url, crs=ccrs.GOOGLE_MERCATOR)\n",
    "tile_options = dict(width=600,height=400,xaxis=None,yaxis=None,bgcolor='black',show_grid=False)\n",
    "\n",
    "class NYCTaxiExplorer(hv.streams.Stream):\n",
    "    alpha      = param.Magnitude(default=0.75, doc=\"Alpha value for the map opacity\")\n",
    "    colormap   = param.ObjectSelector(default=cm_n[\"fire\"], objects=cm_n.values())\n",
    "    hour       = param.Range(default=(0, 24), bounds=(0, 24))\n",
    "    location   = param.ObjectSelector(default='dropoff', objects=['dropoff', 'pickup'])\n",
    "\n",
    "    def make_view(self, x_range, y_range, **kwargs):\n",
    "        map_tiles = tiles.opts(style=dict(alpha=self.alpha), plot=tile_options)\n",
    "        points = hv.Points(df, kdims=[self.location+'_x', self.location+'_y'], vdims=['dropoff_hour'])\n",
    "        if self.hour != (0, 24): points = points.select(dropoff_hour=self.hour)\n",
    "        taxi_trips = datashade(points, x_sampling=1, y_sampling=1, cmap=self.colormap,\n",
    "                               dynamic=False, x_range=x_range, y_range=y_range, width=600, height=400)\n",
    "        return map_tiles * taxi_trips\n",
    "\n",
    "explorer = NYCTaxiExplorer(name=\"NYC Taxi Trips\")\n",
    "dmap = hv.DynamicMap(explorer.make_view, streams=[explorer, RangeXY()])\n",
    "plot = hv.renderer('bokeh').get_plot(dmap)\n",
    "parambokeh.Widgets(explorer, view_position='right', callback=explorer.event, plots=[plot])"
   ]
  },
  {
   "cell_type": "code",
   "execution_count": null,
   "metadata": {},
   "outputs": [],
   "source": [
    "np.linspace(x_range)"
   ]
  },
  {
   "cell_type": "code",
   "execution_count": null,
   "metadata": {},
   "outputs": [],
   "source": [
    "for "
   ]
  },
  {
   "cell_type": "markdown",
   "metadata": {},
   "source": [
    "## ROI Editor"
   ]
  },
  {
   "cell_type": "code",
   "execution_count": null,
   "metadata": {},
   "outputs": [],
   "source": [
    "%%opts Curve [width=400] {+framewise} NdOverlay [legend_limit=0] \n",
    "%%opts Polygons (fill_alpha=0.2 line_color='white') VLine (color='black')\n",
    "\n",
    "data = np.load('/Users/philippjfr/topographica/external/holoviews/examples/assets/twophoton.npz')\n",
    "calcium_array = data['Calcium']\n",
    "calcium_ds = hv.Dataset((np.arange(50), np.arange(111), np.arange(62), calcium_array),\n",
    "                ['Time', 'x', 'y'], 'Fluorescence')\n",
    "\n",
    "polys = hv.Polygons([])\n",
    "box_stream = BoxEdit(source=polys)\n",
    "\n",
    "def roi_curves(data):\n",
    "    if not data:\n",
    "        return hv.NdOverlay({0: hv.Curve([], 'Time', 'Fluorescence')})\n",
    "    \n",
    "    curves = {}\n",
    "    data = zip(data['x0'], data['x1'], data['y0'], data['y1'])\n",
    "    for i, (x0, x1, y0, y1) in enumerate(data):\n",
    "        selection = calcium_ds.select(x=(x0, x1), y=(y0, y1))\n",
    "        curves[i] = hv.Curve(selection.aggregate('Time', np.mean))\n",
    "    return hv.NdOverlay(curves)\n",
    "\n",
    "hlines = hv.HoloMap({i: hv.VLine(i) for i in range(50)}, 'Time')\n",
    "dmap = hv.DynamicMap(roi_curves, streams=[box_stream])\n",
    "\n",
    "calcium_ds.to(hv.Image, ['x', 'y'], dynamic=True) * polys + dmap * hlines"
   ]
  },
  {
   "cell_type": "markdown",
   "metadata": {},
   "source": [
    "## Point Drawing"
   ]
  },
  {
   "cell_type": "code",
   "execution_count": null,
   "metadata": {},
   "outputs": [],
   "source": [
    "%%opts Points [width=500 height=500] (size=10 line_color='black' nonselection_alpha=0.3)\n",
    "points = hv.Points([(0, 0), (0.5, 0.5), (1, 0)])\n",
    "point_stream = PointDraw(data=points.columns(), source=points)\n",
    "trimesh = hv.DynamicMap(hv.TriMesh.from_vertices, streams=[point_stream])\n",
    "trimesh * points"
   ]
  },
  {
   "cell_type": "markdown",
   "metadata": {},
   "source": [
    "## GrabCut"
   ]
  },
  {
   "cell_type": "code",
   "execution_count": null,
   "metadata": {},
   "outputs": [],
   "source": [
    "img = cv.imread('/Users/philippjfr/Downloads/hopper.jpg')[::6, ::6]\n",
    "bounds = (0, 0, *img.shape[:2][::-1])\n",
    "rgb = hv.RGB(img[:, :, ::-1], bounds=bounds)\n",
    "\n",
    "def rasterize(data, img):\n",
    "    \"\"\"\n",
    "    Given polygon data generate a mask of\n",
    "    the same shape as the supplied img.\n",
    "    \"\"\"\n",
    "    ny, nx = img.shape[:2]\n",
    "    mask = False\n",
    "    for xs, ys in zip(data.get('x', []), data.get('y', [])):\n",
    "        if len(xs) < 3:\n",
    "            continue\n",
    "        path = Path(np.column_stack([xs, ys]))\n",
    "        grid = path.contains_points(rgb.array([0, 1]))\n",
    "        mask |= grid.reshape((nx,ny)).T\n",
    "    return mask.astype(np.uint8)\n",
    "\n",
    "def extract_foreground(fg_data, bg_data):\n",
    "    \"\"\"\n",
    "    Given foreground and background polygon data,\n",
    "    run the GrabCut algorithm and return a masked\n",
    "    RGB of the foreground of the original Image.\n",
    "    \"\"\"\n",
    "    if not fg_data:\n",
    "        return hv.RGB(img[:, :, ::-1], bounds=bounds)\n",
    "    fg_mask = rasterize(fg_data, img)\n",
    "    bg_mask = rasterize(bg_data, img) if bg_data else False\n",
    "    mask = np.where(fg_mask, fg_mask, 2)\n",
    "    mask = np.where(bg_mask, 0, mask).copy()\n",
    "    bgdModel = np.zeros((1,65),np.float64)\n",
    "    fgdModel = np.zeros((1,65),np.float64)\n",
    "    mask, _, _ = cv.grabCut(img[::-1], mask, None, bgdModel, fgdModel, 5, cv.GC_INIT_WITH_MASK)\n",
    "    fg_mask = np.where((mask==2)|(mask==0),0,1).astype('uint8')\n",
    "    return hv.RGB(fg_mask[:, :, np.newaxis][::-1] * img[:, :, ::-1], bounds=bounds)"
   ]
  },
  {
   "cell_type": "code",
   "execution_count": null,
   "metadata": {},
   "outputs": [],
   "source": [
    "%%opts RGB [width=400 height=500 xaxis=None yaxis=None] Polygons (line_width=5 fill_alpha=0 line_color=hv.Cycle())\n",
    "%%opts Layout [merge_tools=False]\n",
    "bg_paths = hv.Polygons([]) \n",
    "fg_paths = hv.Polygons([])\n",
    "draw_fg = PolyDraw(source=fg_paths, rename={'data': 'fg_data'})\n",
    "draw_bg = PolyDraw(source=bg_paths, rename={'data': 'bg_data'})\n",
    "edit = PolyEdit(source=bg_paths)\n",
    "edit2 = PolyEdit(source=fg_paths)\n",
    "\n",
    "dmap = hv.DynamicMap(extract_foreground, streams=[draw_fg, draw_bg])\n",
    "\n",
    "regrid(rgb) * fg_paths * bg_paths + regrid(dmap)"
   ]
  },
  {
   "cell_type": "markdown",
   "metadata": {},
   "source": [
    "## Regridding"
   ]
  },
  {
   "cell_type": "code",
   "execution_count": null,
   "metadata": {},
   "outputs": [],
   "source": [
    "file_path = '/Users/philippjfr/datashader/examples/data/MERCATOR_LC80210392016114LGN00_B%s.TIF'\n",
    "bands = list(range(1, 12)) + ['QA']\n",
    "bands = [xr.open_rasterio(file_path%band).load()[0] for band in bands]\n",
    "\n",
    "from datashader.utils import ngjit\n",
    "nodata= 1\n",
    "\n",
    "@ngjit\n",
    "def normalize_data(agg):\n",
    "    out = np.zeros_like(agg)\n",
    "    min_val = 0\n",
    "    max_val = 2**16 - 1\n",
    "    range_val = max_val - min_val\n",
    "    col, rows = agg.shape\n",
    "    c = 40\n",
    "    th = .125\n",
    "    for x in range(col):\n",
    "        for y in range(rows):\n",
    "            val = agg[x, y]\n",
    "            norm = (val - min_val) / range_val\n",
    "            norm = 1 / (1 + np.exp(c * (th - norm))) # bonus\n",
    "            out[x, y] = norm * 255.0\n",
    "    return out\n",
    "\n",
    "def combine_bands(r, g, b):\n",
    "    xs, ys = r['x'], r['y']\n",
    "    r, g, b = [ds.utils.orient_array(img) for img in (r, g, b)]\n",
    "    a = (np.where(np.logical_or(np.isnan(r),r<=nodata),0,255)).astype(np.uint8)    \n",
    "    r = (normalize_data(r)).astype(np.uint8)\n",
    "    g = (normalize_data(g)).astype(np.uint8)\n",
    "    b = (normalize_data(b)).astype(np.uint8)\n",
    "    col, rows = r.shape\n",
    "    return hv.RGB((xs, ys[::-1], r, g, b, a), vdims=list('RGBA'))"
   ]
  },
  {
   "cell_type": "code",
   "execution_count": null,
   "metadata": {},
   "outputs": [],
   "source": [
    "%%opts RGB Curve [width=350 height=350 xaxis=None yaxis=None] {+framewise}\n",
    "\n",
    "combos = pd.DataFrame([\n",
    "    (4,3,2,\"True color\",\"\"),\n",
    "    (7,6,4,\"Urban\",\"False color\"),\n",
    "    (5,4,3,\"Vegetation\",\"Color Infrared\"),\n",
    "    (6,5,2,\"Agriculture\",\"\"),\n",
    "    (7,6,5,\"Penetration\",\"Atmospheric Penetration\"),\n",
    "    (5,6,2,\"Healthy Vegetation\",\"\"),\n",
    "    (5,6,4,\"Land vs. Water\",\"\"),\n",
    "    (7,5,3,\"Atmosphere Removal\",\"Natural With Atmospheric Removal\"),\n",
    "    (7,5,4,\"Shortwave Infrared\",\"\"),\n",
    "    (6,5,4,\"Vegetation Analysis\",\"\")],\n",
    "    columns=['R', 'G', 'B', 'Name', 'Description']).set_index([\"Name\"])\n",
    "combos\n",
    "\n",
    "def combo(name):\n",
    "    c=combos.loc[name]\n",
    "    return combine_bands(bands[c.R-1],bands[c.G-1],bands[c.B-1]).relabel(name)\n",
    "\n",
    "(combo(\"Urban\") + combo(\"Vegetation\") + combo(\"Agriculture\") + combo(\"Land vs. Water\")).cols(2)"
   ]
  }
 ],
 "metadata": {
  "kernelspec": {
   "display_name": "Python 3",
   "language": "python",
   "name": "python3"
  },
  "language_info": {
   "codemirror_mode": {
    "name": "ipython",
    "version": 3
   },
   "file_extension": ".py",
   "mimetype": "text/x-python",
   "name": "python",
   "nbconvert_exporter": "python",
   "pygments_lexer": "ipython3",
   "version": "3.6.3"
  }
 },
 "nbformat": 4,
 "nbformat_minor": 2
}
