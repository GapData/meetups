{
 "cells": [
  {
   "cell_type": "code",
   "execution_count": null,
   "metadata": {},
   "outputs": [],
   "source": [
    "from multiprocessing import Pool\n",
    "from time import sleep"
   ]
  },
  {
   "cell_type": "markdown",
   "metadata": {},
   "source": [
    "# Prep\n",
    "First of all, consider rewriting your for loops..."
   ]
  },
  {
   "cell_type": "code",
   "execution_count": null,
   "metadata": {},
   "outputs": [],
   "source": [
    "for i in range(10):\n",
    "    sleep(0.5)\n",
    "    print(f'I can count to {i}')"
   ]
  },
  {
   "cell_type": "markdown",
   "metadata": {},
   "source": [
    "... in a more functional way, using a function..."
   ]
  },
  {
   "cell_type": "code",
   "execution_count": null,
   "metadata": {},
   "outputs": [],
   "source": [
    "def learn_to_count(i: int) -> str:\n",
    "    sleep(0.5)\n",
    "    return f'I can count to {i}'"
   ]
  },
  {
   "cell_type": "markdown",
   "metadata": {},
   "source": [
    "... and a call to `map`, which maps your inputs (`range(10)`) over the function above (`learn_to_count`).\n",
    "\n",
    "Note that `map` returns an iterator, i.e. is not evaluated right away. Therefore I cast it to a `list` in order to execute:"
   ]
  },
  {
   "cell_type": "code",
   "execution_count": null,
   "metadata": {},
   "outputs": [],
   "source": [
    "%time list(map(learn_to_count, range(10)))"
   ]
  },
  {
   "cell_type": "markdown",
   "metadata": {},
   "source": [
    "# Parallelisation\n",
    "Having adapted the functional style, it's really easy to parallelise the executing, by just using `multiprocessing.Pool.map`:\n",
    "\n",
    "1. create a `Pool` (optionally with number of processes to use)\n",
    "1. use `Pool.map` instead of your usual `map`\n",
    "1. It runs in parallel, awesome! -- see how much faster this runs now!"
   ]
  },
  {
   "cell_type": "code",
   "execution_count": null,
   "metadata": {},
   "outputs": [],
   "source": [
    "p = Pool(processes=5)\n",
    "%time p.map(learn_to_count, range(10))"
   ]
  },
  {
   "cell_type": "markdown",
   "metadata": {},
   "source": [
    "depending on your application, you might want to increase the amount of processes used to make it even faster..."
   ]
  },
  {
   "cell_type": "code",
   "execution_count": null,
   "metadata": {},
   "outputs": [],
   "source": [
    "p = Pool(processes=10)\n",
    "%time p.map(learn_to_count, range(10))"
   ]
  },
  {
   "cell_type": "markdown",
   "metadata": {},
   "source": [
    "# Asynchronous parallelisation\n",
    "Going one step further, you can run your job asynchronously, by using `Pool.map_async` and `.get` on the resulting `MapResult`:"
   ]
  },
  {
   "cell_type": "code",
   "execution_count": null,
   "metadata": {},
   "outputs": [],
   "source": [
    "p = Pool(5)\n",
    "r = p.map_async(learn_to_count, range(10))\n",
    "%time r.get()"
   ]
  },
  {
   "cell_type": "markdown",
   "metadata": {},
   "source": [
    "Between `map_async` and `get`, you can run other code, which will run in parallel to the asynchronous run:"
   ]
  },
  {
   "cell_type": "code",
   "execution_count": null,
   "metadata": {},
   "outputs": [],
   "source": [
    "r = p.map_async(learn_to_count, range(10))\n",
    "\n",
    "sleep(0.5)\n",
    "\n",
    "%time r.get()"
   ]
  },
  {
   "cell_type": "markdown",
   "metadata": {},
   "source": [
    "As you can see, only 0.5 seconds are spent on the `get`, as the `map_async` has already been running in parallel with our `sleep(0.5)` for 0.5 seconds. "
   ]
  },
  {
   "cell_type": "markdown",
   "metadata": {},
   "source": [
    "# Note the order\n",
    "Note that the parallelised jobs do not run in order, i.e. any side effects (like printing or shared state) are generally a bad idea:"
   ]
  },
  {
   "cell_type": "code",
   "execution_count": null,
   "metadata": {},
   "outputs": [],
   "source": [
    "def learn_to_count_and_print(i: int) -> str:\n",
    "    sleep(0.5)\n",
    "    print(f'I can count to {i}')"
   ]
  },
  {
   "cell_type": "code",
   "execution_count": null,
   "metadata": {},
   "outputs": [],
   "source": [
    "p = Pool(processes=10)\n",
    "%time p.map(learn_to_count_and_print, range(10))"
   ]
  }
 ],
 "metadata": {
  "kernelspec": {
   "display_name": "Python 3",
   "language": "python",
   "name": "python3"
  },
  "language_info": {
   "codemirror_mode": {
    "name": "ipython",
    "version": 3
   },
   "file_extension": ".py",
   "mimetype": "text/x-python",
   "name": "python",
   "nbconvert_exporter": "python",
   "pygments_lexer": "ipython3",
   "version": "3.6.3"
  }
 },
 "nbformat": 4,
 "nbformat_minor": 2
}
